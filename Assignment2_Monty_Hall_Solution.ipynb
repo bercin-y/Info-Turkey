{
  "nbformat": 4,
  "nbformat_minor": 0,
  "metadata": {
    "colab": {
      "name": "Assignment2_Monty_Hall_Solution.ipynb",
      "provenance": [],
      "include_colab_link": true
    },
    "kernelspec": {
      "display_name": "Python 3",
      "language": "python",
      "name": "python3"
    },
    "language_info": {
      "codemirror_mode": {
        "name": "ipython",
        "version": 3
      },
      "file_extension": ".py",
      "mimetype": "text/x-python",
      "name": "python",
      "nbconvert_exporter": "python",
      "pygments_lexer": "ipython3",
      "version": "3.6.7"
    }
  },
  "cells": [
    {
      "cell_type": "markdown",
      "metadata": {
        "id": "view-in-github",
        "colab_type": "text"
      },
      "source": [
        "<a href=\"https://colab.research.google.com/github/bercin-y/Info_Turkey/blob/master/Assignment2_Monty_Hall_Solution.ipynb\" target=\"_parent\"><img src=\"https://colab.research.google.com/assets/colab-badge.svg\" alt=\"Open In Colab\"/></a>"
      ]
    },
    {
      "cell_type": "markdown",
      "metadata": {
        "colab_type": "text",
        "id": "y8F-5tMKTQjL"
      },
      "source": [
        "## Assignment 2"
      ]
    },
    {
      "cell_type": "markdown",
      "metadata": {
        "colab_type": "text",
        "id": "07Y_ONdkTQjR"
      },
      "source": [
        "This assignmemt is based on content discussed in module 2 and will work on a solution for the famous Monty Hall game.  Retrieved from https://en.wikipedia.org/wiki/Monty_Hall_problem\n"
      ]
    },
    {
      "cell_type": "markdown",
      "metadata": {
        "colab_type": "text",
        "id": "7hNSzgdzTQjU"
      },
      "source": [
        "## Learning outcomes"
      ]
    },
    {
      "cell_type": "markdown",
      "metadata": {
        "colab_type": "text",
        "id": "2QtRX9sRTQjX"
      },
      "source": [
        "- Program a simple simulation to solve a concrete statistical problem\n",
        "- Develop insight into the Bayesian probabilistic viewpoint\n",
        "- Recognize that statistical intuition can sometimes be wrong\n"
      ]
    },
    {
      "cell_type": "markdown",
      "metadata": {
        "colab_type": "text",
        "id": "lfLffNUWTQja"
      },
      "source": [
        "** Question 1 **\n",
        "Given below is the description of the problem.  \n",
        "\n",
        "Suppose you're on a game show and you're given the choice of three doors. \n",
        "\n",
        "Behind one door is a car; behind the others, goats. The car and the goats were placed randomly behind the doors before the show.\n",
        "\n",
        "The rules are:\n",
        "\n",
        "After you have chosen a door, the door remains closed for the time being. \n",
        "The game show host, Monty Hall, who knows what is behind the doors, now has to open one of the two remaining doors, and the door he opens must have a goat behind it. If both remaining doors have goats behind them, he chooses one randomly. \n",
        "\n",
        "After Monty opens a door with a goat, he will ask you to decide whether you want to stay with your first choice or to switch to the last remaining door. \n",
        "Imagine that you chose Door 1 and the host opens Door 3, which has a goat. \n",
        "He then asks you \"Do you want to switch to Door Number 2?\" Is it to your advantage to change your choice? \n",
        "\n",
        "**NOTES:**\n",
        "1. The player may initially choose any of the three doors (not just Door 1).\n",
        "2. The host opens a different door revealing a goat (not necessarily Door 3).\n",
        "3. The host gives the player a second choice between the two remaining unopened doors. \n"
      ]
    },
    {
      "cell_type": "markdown",
      "metadata": {
        "colab_type": "text",
        "id": "L041acdjTQjb"
      },
      "source": [
        "![image.png](attachment:image.png)\n",
        "\n",
        "(Source: https://en.wikipedia.org/wiki/Monty_Hall_problem#/media/File:Monty_open_door.svg )\n",
        "\n",
        "[Monty hall problem ]"
      ]
    },
    {
      "cell_type": "markdown",
      "metadata": {
        "colab_type": "text",
        "id": "dAuGtwxzTQje"
      },
      "source": [
        "- Write Python code to solve the Monty Hall problem. Simulate at least a thousand games using three doors for each strategy and show the results in such a way as to make it easy to compare the effects of each strategy.\n"
      ]
    },
    {
      "cell_type": "code",
      "metadata": {
        "colab_type": "code",
        "id": "GlZk3mKETQjg",
        "colab": {}
      },
      "source": [
        "#your work here"
      ],
      "execution_count": null,
      "outputs": []
    },
    {
      "cell_type": "code",
      "metadata": {
        "id": "FWtdffludMSx",
        "colab_type": "code",
        "colab": {}
      },
      "source": [
        ""
      ],
      "execution_count": null,
      "outputs": []
    },
    {
      "cell_type": "markdown",
      "metadata": {
        "id": "e4z3zu0gdOwG",
        "colab_type": "text"
      },
      "source": [
        "\n",
        "\n",
        "*   The highest level of the task to solve the problem\n",
        "*   Simulate thousand games with the loop (There is two part of the game)\n",
        "  \n",
        "  * The first one is set up the game\n",
        "        * Using the option from list, dictionary, dataframes from pandas,  \n",
        "        * Simulate 1000 times games\n",
        "\n",
        "  * The second part is to start playing the game\n",
        "       * Player choose a door\n",
        "       * Host eliminate the door\n",
        "       * Recording each results\n",
        "       * Player has two options:\n",
        "         * 1)Staying with the original choice\n",
        "         * 2)Switching the door\n",
        "\n",
        "     \n",
        "  * Show the results \n",
        "---\n",
        "\n",
        "pseudocode\n",
        "pseudonym - pen name \n",
        "\n"
      ]
    },
    {
      "cell_type": "code",
      "metadata": {
        "id": "poomiKOxGcFr",
        "colab_type": "code",
        "colab": {}
      },
      "source": [
        "(\"\"\"  The highest level of the task to solve the problem\n",
        "# Simulate thousand games with the loop (There is two part of the game)\n",
        "\n",
        "# The first one is set up the game\n",
        "  # Define 3 doors\n",
        "      # Using the option from list, dictionary, dataframes from pandas,  \n",
        "Doors=pd.DataFrame(columns=[\"Car\",\"Goat\", \"Goat\"])\n",
        "\n",
        "  # Simulate 1000 times games\n",
        "for Doors in range(10):\n",
        "\n",
        "    # Randomly place the price and goats\n",
        "    i=random.shuffle(Doors)\n",
        "    print(i)\n",
        "    \n",
        "    # The second part is to start playing the game\n",
        "     #Player choose a door\n",
        "    initial_choice_index=random.choice([1,2,3])\n",
        "\n",
        "    #Host eliminate the door\n",
        "    eliminate_choice_door=Doors.pop(initial_choice_index)\n",
        "    Doors.remove(\"0\")\n",
        "\n",
        "    # Recording each results\n",
        "\n",
        "  #Player has two options:\n",
        "   #1)Staying with the original choice\n",
        "    stay_result=Doors\n",
        "   #2)Switching the door\"\"\")\n",
        "\n",
        "  "
      ],
      "execution_count": null,
      "outputs": []
    },
    {
      "cell_type": "code",
      "metadata": {
        "id": "h-naoDBzFkMa",
        "colab_type": "code",
        "colab": {
          "base_uri": "https://localhost:8080/",
          "height": 204
        },
        "outputId": "db9cb3df-1a58-4106-f9e6-47725de5b472"
      },
      "source": [
        "#Starting game's set up and choose the car's door\n",
        "#Player choose randomly a door\n",
        "import numpy as np\n",
        "import pandas as pd\n",
        "import random\n",
        "import matplotlib.pyplot as plt\n",
        "import matplotlib as mpl\n",
        "\n",
        "Doors=pd.DataFrame(np.random.randint(1,4,size=(1000,2)), columns=['Car','Initial_Choice'])\n",
        "Doors.head()\n"
      ],
      "execution_count": 44,
      "outputs": [
        {
          "output_type": "execute_result",
          "data": {
            "text/html": [
              "<div>\n",
              "<style scoped>\n",
              "    .dataframe tbody tr th:only-of-type {\n",
              "        vertical-align: middle;\n",
              "    }\n",
              "\n",
              "    .dataframe tbody tr th {\n",
              "        vertical-align: top;\n",
              "    }\n",
              "\n",
              "    .dataframe thead th {\n",
              "        text-align: right;\n",
              "    }\n",
              "</style>\n",
              "<table border=\"1\" class=\"dataframe\">\n",
              "  <thead>\n",
              "    <tr style=\"text-align: right;\">\n",
              "      <th></th>\n",
              "      <th>Car</th>\n",
              "      <th>Initial_Choice</th>\n",
              "    </tr>\n",
              "  </thead>\n",
              "  <tbody>\n",
              "    <tr>\n",
              "      <th>0</th>\n",
              "      <td>1</td>\n",
              "      <td>2</td>\n",
              "    </tr>\n",
              "    <tr>\n",
              "      <th>1</th>\n",
              "      <td>3</td>\n",
              "      <td>3</td>\n",
              "    </tr>\n",
              "    <tr>\n",
              "      <th>2</th>\n",
              "      <td>1</td>\n",
              "      <td>3</td>\n",
              "    </tr>\n",
              "    <tr>\n",
              "      <th>3</th>\n",
              "      <td>2</td>\n",
              "      <td>2</td>\n",
              "    </tr>\n",
              "    <tr>\n",
              "      <th>4</th>\n",
              "      <td>2</td>\n",
              "      <td>1</td>\n",
              "    </tr>\n",
              "  </tbody>\n",
              "</table>\n",
              "</div>"
            ],
            "text/plain": [
              "   Car  Initial_Choice\n",
              "0    1               2\n",
              "1    3               3\n",
              "2    1               3\n",
              "3    2               2\n",
              "4    2               1"
            ]
          },
          "metadata": {
            "tags": []
          },
          "execution_count": 44
        }
      ]
    },
    {
      "cell_type": "code",
      "metadata": {
        "id": "X5aNIOFgF7_k",
        "colab_type": "code",
        "colab": {
          "base_uri": "https://localhost:8080/",
          "height": 419
        },
        "outputId": "7ec702cc-ab54-415a-afb3-c4bda12a0808"
      },
      "source": [
        "Doors.loc[(Doors['Car'] ==1) & (Doors['Initial_Choice']==3), 'Eliminate_Door'] = 2\n",
        "Doors.loc[(Doors['Car'] ==2) & (Doors['Initial_Choice']==3), 'Eliminate_Door'] = 1\n",
        "Doors.loc[(Doors['Car'] ==2) & (Doors['Initial_Choice']==1), 'Eliminate_Door'] = 3\n",
        "Doors.loc[(Doors['Car'] ==3) & (Doors['Initial_Choice']==1), 'Eliminate_Door'] = 2\n",
        "Doors.loc[(Doors['Car'] ==3) & (Doors['Initial_Choice']==2), 'Eliminate_Door'] = 1\n",
        "Doors.loc[(Doors['Car'] ==1) & (Doors['Initial_Choice']==2), 'Eliminate_Door'] = 3\n",
        "Doors\n"
      ],
      "execution_count": 45,
      "outputs": [
        {
          "output_type": "execute_result",
          "data": {
            "text/html": [
              "<div>\n",
              "<style scoped>\n",
              "    .dataframe tbody tr th:only-of-type {\n",
              "        vertical-align: middle;\n",
              "    }\n",
              "\n",
              "    .dataframe tbody tr th {\n",
              "        vertical-align: top;\n",
              "    }\n",
              "\n",
              "    .dataframe thead th {\n",
              "        text-align: right;\n",
              "    }\n",
              "</style>\n",
              "<table border=\"1\" class=\"dataframe\">\n",
              "  <thead>\n",
              "    <tr style=\"text-align: right;\">\n",
              "      <th></th>\n",
              "      <th>Car</th>\n",
              "      <th>Initial_Choice</th>\n",
              "      <th>Eliminate_Door</th>\n",
              "    </tr>\n",
              "  </thead>\n",
              "  <tbody>\n",
              "    <tr>\n",
              "      <th>0</th>\n",
              "      <td>1</td>\n",
              "      <td>2</td>\n",
              "      <td>3.0</td>\n",
              "    </tr>\n",
              "    <tr>\n",
              "      <th>1</th>\n",
              "      <td>3</td>\n",
              "      <td>3</td>\n",
              "      <td>NaN</td>\n",
              "    </tr>\n",
              "    <tr>\n",
              "      <th>2</th>\n",
              "      <td>1</td>\n",
              "      <td>3</td>\n",
              "      <td>2.0</td>\n",
              "    </tr>\n",
              "    <tr>\n",
              "      <th>3</th>\n",
              "      <td>2</td>\n",
              "      <td>2</td>\n",
              "      <td>NaN</td>\n",
              "    </tr>\n",
              "    <tr>\n",
              "      <th>4</th>\n",
              "      <td>2</td>\n",
              "      <td>1</td>\n",
              "      <td>3.0</td>\n",
              "    </tr>\n",
              "    <tr>\n",
              "      <th>...</th>\n",
              "      <td>...</td>\n",
              "      <td>...</td>\n",
              "      <td>...</td>\n",
              "    </tr>\n",
              "    <tr>\n",
              "      <th>995</th>\n",
              "      <td>1</td>\n",
              "      <td>2</td>\n",
              "      <td>3.0</td>\n",
              "    </tr>\n",
              "    <tr>\n",
              "      <th>996</th>\n",
              "      <td>2</td>\n",
              "      <td>3</td>\n",
              "      <td>1.0</td>\n",
              "    </tr>\n",
              "    <tr>\n",
              "      <th>997</th>\n",
              "      <td>1</td>\n",
              "      <td>1</td>\n",
              "      <td>NaN</td>\n",
              "    </tr>\n",
              "    <tr>\n",
              "      <th>998</th>\n",
              "      <td>1</td>\n",
              "      <td>1</td>\n",
              "      <td>NaN</td>\n",
              "    </tr>\n",
              "    <tr>\n",
              "      <th>999</th>\n",
              "      <td>3</td>\n",
              "      <td>2</td>\n",
              "      <td>1.0</td>\n",
              "    </tr>\n",
              "  </tbody>\n",
              "</table>\n",
              "<p>1000 rows × 3 columns</p>\n",
              "</div>"
            ],
            "text/plain": [
              "     Car  Initial_Choice  Eliminate_Door\n",
              "0      1               2             3.0\n",
              "1      3               3             NaN\n",
              "2      1               3             2.0\n",
              "3      2               2             NaN\n",
              "4      2               1             3.0\n",
              "..   ...             ...             ...\n",
              "995    1               2             3.0\n",
              "996    2               3             1.0\n",
              "997    1               1             NaN\n",
              "998    1               1             NaN\n",
              "999    3               2             1.0\n",
              "\n",
              "[1000 rows x 3 columns]"
            ]
          },
          "metadata": {
            "tags": []
          },
          "execution_count": 45
        }
      ]
    },
    {
      "cell_type": "code",
      "metadata": {
        "id": "sTEpWNBJX9r6",
        "colab_type": "code",
        "colab": {
          "base_uri": "https://localhost:8080/",
          "height": 187
        },
        "outputId": "de087dd5-dd4a-4da8-f69b-1d6fe1dae02b"
      },
      "source": [
        "#Host eliminate the door\n",
        "for i in range(len(Doors)):\n",
        "  if (Doors.loc[i,'Car']==3 & Doors.loc[i,'Initial_Choice']==3):\n",
        "         Doors.loc[i,'Eliminate_Door']=np.random.choice([1,2])\n",
        "  elif (Doors.loc[i,'Car']==2 & Doors.loc[i,'Initial_Choice']==2):\n",
        "         Doors.loc[i,'Eliminate_Door']=np.random.choice([1,3])\n",
        "  elif (Doors.loc[i,'Car']==1 & Doors.loc[i,'Initial_Choice']==1):\n",
        "         Doors.loc[i,'Eliminate_Door']=np.random.choice([2,3])      \n",
        "Doors.head(20)\n",
        "Doors.info()"
      ],
      "execution_count": 51,
      "outputs": [
        {
          "output_type": "stream",
          "text": [
            "<class 'pandas.core.frame.DataFrame'>\n",
            "RangeIndex: 1000 entries, 0 to 999\n",
            "Data columns (total 3 columns):\n",
            " #   Column          Non-Null Count  Dtype  \n",
            "---  ------          --------------  -----  \n",
            " 0   Car             1000 non-null   int64  \n",
            " 1   Initial_Choice  1000 non-null   int64  \n",
            " 2   Eliminate_Door  1000 non-null   float64\n",
            "dtypes: float64(1), int64(2)\n",
            "memory usage: 23.6 KB\n"
          ],
          "name": "stdout"
        }
      ]
    },
    {
      "cell_type": "code",
      "metadata": {
        "id": "RcgMBEF6ubWr",
        "colab_type": "code",
        "colab": {
          "base_uri": "https://localhost:8080/",
          "height": 204
        },
        "outputId": "70e11e44-6947-4c0b-9352-0da553f6c069"
      },
      "source": [
        "#Player has two options:\n",
        "   #1)Switching the door choice\n",
        "   #2)Staying with the original choice\n",
        "\n",
        "#If Player switch the door choice\n",
        "Doors.loc[(Doors['Eliminate_Door'] ==1) & (Doors['Initial_Choice']==2), 'Switching_door'] = 3\n",
        "Doors.loc[(Doors['Eliminate_Door'] ==1) & (Doors['Initial_Choice']==3), 'Switching_door'] = 2\n",
        "Doors.loc[(Doors['Eliminate_Door'] ==2) & (Doors['Initial_Choice']==1), 'Switching_door'] = 3\n",
        "Doors.loc[(Doors['Eliminate_Door'] ==2) & (Doors['Initial_Choice']==3), 'Switching_door'] = 1\n",
        "Doors.loc[(Doors['Eliminate_Door'] ==3) & (Doors['Initial_Choice']==1), 'Switching_door'] = 2\n",
        "Doors.loc[(Doors['Eliminate_Door'] ==3) & (Doors['Initial_Choice']==2), 'Switching_door'] = 1\n",
        "Doors['Switching_door']=Doors['Switching_door'].astype(int)\n",
        "Doors.head()"
      ],
      "execution_count": 39,
      "outputs": [
        {
          "output_type": "execute_result",
          "data": {
            "text/html": [
              "<div>\n",
              "<style scoped>\n",
              "    .dataframe tbody tr th:only-of-type {\n",
              "        vertical-align: middle;\n",
              "    }\n",
              "\n",
              "    .dataframe tbody tr th {\n",
              "        vertical-align: top;\n",
              "    }\n",
              "\n",
              "    .dataframe thead th {\n",
              "        text-align: right;\n",
              "    }\n",
              "</style>\n",
              "<table border=\"1\" class=\"dataframe\">\n",
              "  <thead>\n",
              "    <tr style=\"text-align: right;\">\n",
              "      <th></th>\n",
              "      <th>Car</th>\n",
              "      <th>Initial_Choice</th>\n",
              "      <th>Eliminate_Door</th>\n",
              "      <th>Switching_door</th>\n",
              "    </tr>\n",
              "  </thead>\n",
              "  <tbody>\n",
              "    <tr>\n",
              "      <th>0</th>\n",
              "      <td>2</td>\n",
              "      <td>2</td>\n",
              "      <td>1.0</td>\n",
              "      <td>3</td>\n",
              "    </tr>\n",
              "    <tr>\n",
              "      <th>1</th>\n",
              "      <td>1</td>\n",
              "      <td>2</td>\n",
              "      <td>3.0</td>\n",
              "      <td>1</td>\n",
              "    </tr>\n",
              "    <tr>\n",
              "      <th>2</th>\n",
              "      <td>3</td>\n",
              "      <td>2</td>\n",
              "      <td>1.0</td>\n",
              "      <td>3</td>\n",
              "    </tr>\n",
              "    <tr>\n",
              "      <th>3</th>\n",
              "      <td>2</td>\n",
              "      <td>2</td>\n",
              "      <td>1.0</td>\n",
              "      <td>3</td>\n",
              "    </tr>\n",
              "    <tr>\n",
              "      <th>4</th>\n",
              "      <td>2</td>\n",
              "      <td>3</td>\n",
              "      <td>1.0</td>\n",
              "      <td>2</td>\n",
              "    </tr>\n",
              "  </tbody>\n",
              "</table>\n",
              "</div>"
            ],
            "text/plain": [
              "   Car  Initial_Choice  Eliminate_Door  Switching_door\n",
              "0    2               2             1.0               3\n",
              "1    1               2             3.0               1\n",
              "2    3               2             1.0               3\n",
              "3    2               2             1.0               3\n",
              "4    2               3             1.0               2"
            ]
          },
          "metadata": {
            "tags": []
          },
          "execution_count": 39
        }
      ]
    },
    {
      "cell_type": "code",
      "metadata": {
        "id": "phuEJHJjr3d0",
        "colab_type": "code",
        "colab": {
          "base_uri": "https://localhost:8080/",
          "height": 204
        },
        "outputId": "11a913d8-3538-4684-8bd2-9b0b4ee9c691"
      },
      "source": [
        "#To show the possibility of switching the door as 1 and 0 (1=Win car, 0=Goat) \n",
        "\n",
        "Doors.loc[Doors['Car'] == Doors['Switching_door'], 'Switching_Possibility'] = 1\n",
        "Doors.loc[Doors['Car'] != Doors['Switching_door'], 'Switching_Possibility'] = 0\n",
        "Doors['Switching_Possibility']=Doors['Switching_Possibility'].astype(int)\n",
        "Doors.head()"
      ],
      "execution_count": 40,
      "outputs": [
        {
          "output_type": "execute_result",
          "data": {
            "text/html": [
              "<div>\n",
              "<style scoped>\n",
              "    .dataframe tbody tr th:only-of-type {\n",
              "        vertical-align: middle;\n",
              "    }\n",
              "\n",
              "    .dataframe tbody tr th {\n",
              "        vertical-align: top;\n",
              "    }\n",
              "\n",
              "    .dataframe thead th {\n",
              "        text-align: right;\n",
              "    }\n",
              "</style>\n",
              "<table border=\"1\" class=\"dataframe\">\n",
              "  <thead>\n",
              "    <tr style=\"text-align: right;\">\n",
              "      <th></th>\n",
              "      <th>Car</th>\n",
              "      <th>Initial_Choice</th>\n",
              "      <th>Eliminate_Door</th>\n",
              "      <th>Switching_door</th>\n",
              "      <th>Switching_Possibility</th>\n",
              "    </tr>\n",
              "  </thead>\n",
              "  <tbody>\n",
              "    <tr>\n",
              "      <th>0</th>\n",
              "      <td>2</td>\n",
              "      <td>2</td>\n",
              "      <td>1.0</td>\n",
              "      <td>3</td>\n",
              "      <td>0</td>\n",
              "    </tr>\n",
              "    <tr>\n",
              "      <th>1</th>\n",
              "      <td>1</td>\n",
              "      <td>2</td>\n",
              "      <td>3.0</td>\n",
              "      <td>1</td>\n",
              "      <td>1</td>\n",
              "    </tr>\n",
              "    <tr>\n",
              "      <th>2</th>\n",
              "      <td>3</td>\n",
              "      <td>2</td>\n",
              "      <td>1.0</td>\n",
              "      <td>3</td>\n",
              "      <td>1</td>\n",
              "    </tr>\n",
              "    <tr>\n",
              "      <th>3</th>\n",
              "      <td>2</td>\n",
              "      <td>2</td>\n",
              "      <td>1.0</td>\n",
              "      <td>3</td>\n",
              "      <td>0</td>\n",
              "    </tr>\n",
              "    <tr>\n",
              "      <th>4</th>\n",
              "      <td>2</td>\n",
              "      <td>3</td>\n",
              "      <td>1.0</td>\n",
              "      <td>2</td>\n",
              "      <td>1</td>\n",
              "    </tr>\n",
              "  </tbody>\n",
              "</table>\n",
              "</div>"
            ],
            "text/plain": [
              "   Car  Initial_Choice  Eliminate_Door  Switching_door  Switching_Possibility\n",
              "0    2               2             1.0               3                      0\n",
              "1    1               2             3.0               1                      1\n",
              "2    3               2             1.0               3                      1\n",
              "3    2               2             1.0               3                      0\n",
              "4    2               3             1.0               2                      1"
            ]
          },
          "metadata": {
            "tags": []
          },
          "execution_count": 40
        }
      ]
    },
    {
      "cell_type": "code",
      "metadata": {
        "id": "V8qXEODjrPTH",
        "colab_type": "code",
        "colab": {
          "base_uri": "https://localhost:8080/",
          "height": 204
        },
        "outputId": "fc494857-637d-43c9-ac5b-04eacdb619c5"
      },
      "source": [
        "#To show the possibility if player will not change their choice\n",
        "\n",
        "Doors.loc[Doors['Car'] == Doors['Initial_Choice'], 'Stay_Possibility'] = 1\n",
        "Doors.loc[Doors['Car'] != Doors['Initial_Choice'], 'Stay_Possibility'] = 0\n",
        "Doors['Stay_Possibility']=Doors['Stay_Possibility'].astype(int)\n",
        "Doors.head()"
      ],
      "execution_count": 41,
      "outputs": [
        {
          "output_type": "execute_result",
          "data": {
            "text/html": [
              "<div>\n",
              "<style scoped>\n",
              "    .dataframe tbody tr th:only-of-type {\n",
              "        vertical-align: middle;\n",
              "    }\n",
              "\n",
              "    .dataframe tbody tr th {\n",
              "        vertical-align: top;\n",
              "    }\n",
              "\n",
              "    .dataframe thead th {\n",
              "        text-align: right;\n",
              "    }\n",
              "</style>\n",
              "<table border=\"1\" class=\"dataframe\">\n",
              "  <thead>\n",
              "    <tr style=\"text-align: right;\">\n",
              "      <th></th>\n",
              "      <th>Car</th>\n",
              "      <th>Initial_Choice</th>\n",
              "      <th>Eliminate_Door</th>\n",
              "      <th>Switching_door</th>\n",
              "      <th>Switching_Possibility</th>\n",
              "      <th>Stay_Possibility</th>\n",
              "    </tr>\n",
              "  </thead>\n",
              "  <tbody>\n",
              "    <tr>\n",
              "      <th>0</th>\n",
              "      <td>2</td>\n",
              "      <td>2</td>\n",
              "      <td>1.0</td>\n",
              "      <td>3</td>\n",
              "      <td>0</td>\n",
              "      <td>1</td>\n",
              "    </tr>\n",
              "    <tr>\n",
              "      <th>1</th>\n",
              "      <td>1</td>\n",
              "      <td>2</td>\n",
              "      <td>3.0</td>\n",
              "      <td>1</td>\n",
              "      <td>1</td>\n",
              "      <td>0</td>\n",
              "    </tr>\n",
              "    <tr>\n",
              "      <th>2</th>\n",
              "      <td>3</td>\n",
              "      <td>2</td>\n",
              "      <td>1.0</td>\n",
              "      <td>3</td>\n",
              "      <td>1</td>\n",
              "      <td>0</td>\n",
              "    </tr>\n",
              "    <tr>\n",
              "      <th>3</th>\n",
              "      <td>2</td>\n",
              "      <td>2</td>\n",
              "      <td>1.0</td>\n",
              "      <td>3</td>\n",
              "      <td>0</td>\n",
              "      <td>1</td>\n",
              "    </tr>\n",
              "    <tr>\n",
              "      <th>4</th>\n",
              "      <td>2</td>\n",
              "      <td>3</td>\n",
              "      <td>1.0</td>\n",
              "      <td>2</td>\n",
              "      <td>1</td>\n",
              "      <td>0</td>\n",
              "    </tr>\n",
              "  </tbody>\n",
              "</table>\n",
              "</div>"
            ],
            "text/plain": [
              "   Car  Initial_Choice  ...  Switching_Possibility  Stay_Possibility\n",
              "0    2               2  ...                      0                 1\n",
              "1    1               2  ...                      1                 0\n",
              "2    3               2  ...                      1                 0\n",
              "3    2               2  ...                      0                 1\n",
              "4    2               3  ...                      1                 0\n",
              "\n",
              "[5 rows x 6 columns]"
            ]
          },
          "metadata": {
            "tags": []
          },
          "execution_count": 41
        }
      ]
    },
    {
      "cell_type": "code",
      "metadata": {
        "id": "DgIFeD96b650",
        "colab_type": "code",
        "colab": {
          "base_uri": "https://localhost:8080/",
          "height": 34
        },
        "outputId": "2f8ab8da-bc6f-4f34-d5ac-b9b4f8a95a08"
      },
      "source": [
        "#To calculate the percentange of winning car chance if player switches the door\n",
        "Doors[\"Switching_Possibility\"].mean()"
      ],
      "execution_count": 42,
      "outputs": [
        {
          "output_type": "execute_result",
          "data": {
            "text/plain": [
              "0.675"
            ]
          },
          "metadata": {
            "tags": []
          },
          "execution_count": 42
        }
      ]
    },
    {
      "cell_type": "code",
      "metadata": {
        "id": "fkXSqpI3tDgg",
        "colab_type": "code",
        "colab": {
          "base_uri": "https://localhost:8080/",
          "height": 34
        },
        "outputId": "d5ce357d-6fde-4392-f4bc-66e96a36a990"
      },
      "source": [
        "#To calculate the percentange of winning car chance if player stay in the first choice's door\n",
        "Doors[\"Stay_Possibility\"].mean()"
      ],
      "execution_count": 43,
      "outputs": [
        {
          "output_type": "execute_result",
          "data": {
            "text/plain": [
              "0.325"
            ]
          },
          "metadata": {
            "tags": []
          },
          "execution_count": 43
        }
      ]
    },
    {
      "cell_type": "code",
      "metadata": {
        "id": "kO2VhsKoB52U",
        "colab_type": "code",
        "colab": {}
      },
      "source": [
        "\"\"\" SCRATCH STUDYING\n",
        "\n",
        "#Doors.loc[(Doors['Car'] ==1) & (Doors['Initial_Choice']==2), 'Eliminate_Door'] = np.random.choice([1,3])\n",
        "\n",
        "#Assign random number to some of the rows regarding to the filter \n",
        "Doors.loc[(Doors['Car'] ==1) & (Doors['Initial_Choice']==2)]= np.random.choice([1,3])\n",
        "\n",
        "#Show the values from Initial Choice column\n",
        "Doors['Initial_Choice']\n",
        "\n",
        "#Store a random number in Eliminate_Door column when Car and Initial_Choice have the same door number\n",
        "##)ADD: Store a different random number in Eliminate_Door column for each row\n",
        "#1) Car=Initial_Choice=1\n",
        "Doors.loc[((Doors['Car']) ==(Doors['Initial_Choice'])) & (Doors['Initial_Choice']==1)]= x\n",
        "'Eliminate_Door'=np.random.choice([2,3],size=(len(x),1))\n",
        " \n",
        " \n",
        " replace=True)\n",
        "Doors['Eliminate_Door']=np.random.choice([2,3],size=(1000,1))\n",
        "#Create a variable to store a filter\n",
        "Filter_1 = (Doors['Car'] ==1) & (Doors['Initial_Choice']==1)\n",
        "Doors.loc[Filter_1]\n",
        "\n",
        "for i in Doors['Eliminate_Door']:\n",
        "  i=np.random.choice([2,3],replace=True)\n",
        "print(Doors['Eliminate_Door'])\n",
        "\n",
        "  if (Doors['Eliminate_Door']=x):\n",
        "  print(x)\n",
        "Doors['Eliminate_Door']\n",
        "x=random.choice([2,3])\n",
        "x.iat[1,2]\n",
        "\n",
        "\n",
        "#Loop the Filter_1 through the rows for choosing a random number \n",
        "#Loop through all the dataframe rows and update eliminate door column; one row each time\n",
        "#Store a different random number in a column loop through all the dataframe rows Eliminate_Door column for each row\n",
        "for i in range(10) #range(len(Doors)):\n",
        "  if Eliminate_Door=i\n",
        "  print(i)\n",
        "\n",
        "for i in range (10):\n",
        "  print(i)\n",
        "\n",
        "#---Car=Initial_Choice=2\n",
        "\n",
        "#---Car=Initial_Choice=3\"\"\"\n",
        "\n",
        "\n"
      ],
      "execution_count": null,
      "outputs": []
    },
    {
      "cell_type": "code",
      "metadata": {
        "id": "FcR2yzei-Akz",
        "colab_type": "code",
        "colab": {}
      },
      "source": [
        "\"\"\"#Assign a value:\n",
        "vernon = True\n",
        "\n",
        "#View the value\n",
        "vernon\n",
        "\n",
        "#Test the value\n",
        "vernon == 5\n",
        "#---\n",
        "\n",
        "#Create a variable to store a filter\n",
        "#my_filter = Doors['Car'] ==1\n",
        "a=(Doors['Car'] ==1) & (Doors['Initial_Choice']==2)\n",
        "print(a)\n",
        "Doors.loc[a] \n",
        "type(a)\n",
        "#Use my filter on the DataFrame\n",
        "Doors.loc[my_filter]\"\"\""
      ],
      "execution_count": null,
      "outputs": []
    },
    {
      "cell_type": "code",
      "metadata": {
        "id": "kKhvV9Z0_EMZ",
        "colab_type": "code",
        "colab": {
          "base_uri": "https://localhost:8080/",
          "height": 129
        },
        "outputId": "43b01fe6-5eb2-42ad-a588-0f6285ac953a"
      },
      "source": [
        "def winning_possibility(Doors['Initial_Choice','Car']):\n",
        "    return np.sum(Doors.loc[Doors['Car'] == Doors['Initial_Choice']]/float(len(Doors['Initial_Choice'])))\n",
        "print(\"if the player choose the initial choice\",winning_possibility(Doors['Initial_Choice','Car']))"
      ],
      "execution_count": null,
      "outputs": [
        {
          "output_type": "error",
          "ename": "SyntaxError",
          "evalue": "ignored",
          "traceback": [
            "\u001b[0;36m  File \u001b[0;32m\"<ipython-input-22-6083942bff2b>\"\u001b[0;36m, line \u001b[0;32m1\u001b[0m\n\u001b[0;31m    def winning_possibility(Doors['Initial_Choice','Car']):\u001b[0m\n\u001b[0m                                 ^\u001b[0m\n\u001b[0;31mSyntaxError\u001b[0m\u001b[0;31m:\u001b[0m invalid syntax\n"
          ]
        }
      ]
    },
    {
      "cell_type": "code",
      "metadata": {
        "id": "42kwm1D4_bHR",
        "colab_type": "code",
        "colab": {}
      },
      "source": [
        "nsim = 1000\n",
        "\"\"\"odul = simulasyon_odul(nsim)\n",
        "tahmin = simulasyon_tahmin(nsim)\n",
        "kecikapilar = keci_kapi(odul,tahmin)\n",
        "degistir = tahmin_degistir(tahmin,kecikapilar)\"\"\"\n",
        "prize=Doors.loc(Doors['Car'])(nsim)\n",
        "guess=Initial_choice(nsim)\n",
        "goat_doors=Eliminate_Door(prize,guess)\n",
        "change=Switching_Possibility(guess,goat_doors)\n",
        "  Switching.append(\"Switching_Possibility\")\n",
        "  Not_Switching.append(\"Stay_Possibility\")\n",
        "\n",
        "print(\"Eğer ilk seçtiği kapıyı değiştirmezse \", kazanma_yuzdesi(tahmin, odul))\n",
        "print(\"Eğer ilk seçtiği kapıyı değiştirirse: \", kazanma_yuzdesi(degistir, odul))"
      ],
      "execution_count": null,
      "outputs": []
    },
    {
      "cell_type": "code",
      "metadata": {
        "id": "jofzZoks3TyH",
        "colab_type": "code",
        "colab": {}
      },
      "source": [
        "Switching = []\n",
        "Not_Switching= []\n",
        "nsim=10000\n",
        "for ntimes in range(1,10000,20):\n",
        "  \"\"\"prize='Car'(nsim)\n",
        "  guess=Initial_choice(nsim)\n",
        "  goat_doors=Eliminate_Door(prize,guess)\n",
        "  change=Switching_Possibility(guess,goat_doors)\"\"\"\n",
        "  Switching.append(\"Switching_Possibility\")\n",
        "  Not_Switching.append(\"Stay_Possibility\")\n",
        "    \n",
        "plt.figure(figsize=(14,10))    \n",
        "plt.plot(range(1,10000,20),Switching, 'r.', label='Switching')\n",
        "plt.plot(range(1,10000,20),Not_Switching, 'b.', label='Not_Switching')\n",
        "plt.xlabel(\"Simulasion's number\")\n",
        "plt.ylabel('Possibility')\n",
        "plt.legend()\n",
        "plt.show()"
      ],
      "execution_count": null,
      "outputs": []
    },
    {
      "cell_type": "code",
      "metadata": {
        "id": "KGBqpLtK8noG",
        "colab_type": "code",
        "colab": {
          "base_uri": "https://localhost:8080/",
          "height": 291
        },
        "outputId": "ee669ac7-c461-4b9d-8770-8413654b5f0a"
      },
      "source": [
        "Doors.plot.bar()"
      ],
      "execution_count": 52,
      "outputs": [
        {
          "output_type": "execute_result",
          "data": {
            "text/plain": [
              "<matplotlib.axes._subplots.AxesSubplot at 0x7fee64ea6780>"
            ]
          },
          "metadata": {
            "tags": []
          },
          "execution_count": 52
        },
        {
          "output_type": "display_data",
          "data": {
            "image/png": "[encoded data removed]",
            "text/plain": [
              "<Figure size 432x288 with 1 Axes>"
            ]
          },
          "metadata": {
            "tags": [],
            "needs_background": "light"
          }
        }
      ]
    },
    {
      "cell_type": "code",
      "metadata": {
        "id": "wJGGK7nmJtnP",
        "colab_type": "code",
        "colab": {}
      },
      "source": [
        "Doors.plot.barh(stacked=True)"
      ],
      "execution_count": null,
      "outputs": []
    },
    {
      "cell_type": "code",
      "metadata": {
        "id": "c4XNDaDVKFFt",
        "colab_type": "code",
        "colab": {}
      },
      "source": [
        "Doors.plot.barh(stacked=True)"
      ],
      "execution_count": null,
      "outputs": []
    },
    {
      "cell_type": "code",
      "metadata": {
        "id": "zOpgqt82KnCP",
        "colab_type": "code",
        "colab": {}
      },
      "source": [
        "Doors.iloc[999].plot(kind='bar')"
      ],
      "execution_count": null,
      "outputs": []
    },
    {
      "cell_type": "code",
      "metadata": {
        "id": "ebKc3XeNLGiH",
        "colab_type": "code",
        "colab": {}
      },
      "source": [
        "Doors.iloc[5].plot.bar()\n",
        "plt.axhline(0, color='k')"
      ],
      "execution_count": null,
      "outputs": []
    },
    {
      "cell_type": "code",
      "metadata": {
        "id": "PvEknWku1anf",
        "colab_type": "code",
        "colab": {
          "base_uri": "https://localhost:8080/",
          "height": 34
        },
        "outputId": "728b19de-9de4-4eec-b161-e5b775ce0136"
      },
      "source": [
        "# do something many times:\n",
        "Eliminate_Door=[]\n",
        "Doors.iloc[1,1]\n",
        "for i in range(1000):\n",
        "    if (Doors.loc[((Doors['Car']) ==(Doors['Initial_Choice'])) & (Doors['Initial_Choice']==1)]):\n",
        "      Eliminate_Door.append(np.random.choice(2,3))\n",
        "for Doors['Eliminate_Door'] in range(10):\n",
        "  for i in Doors['Eliminate_Door']:\n",
        "    i= random.choice([1,3])\n",
        "    if Doors.loc[((Doors['Car']) ==(Doors['Initial_Choice'])) & (Doors['Initial_Choice']==2),'Eliminate_Door']:\n",
        "      Doors['Eliminate_Door']==i\n",
        "      print(i)\n",
        "Doors['Eliminate_Door']()\n",
        "print(Doors['Eliminate_Door']) #df1.shape[0] 2 or 3\n",
        "\n",
        "print(Doors)\n",
        "df['radon_adj'] = df['radon'].apply(lambda x: random.uniform(0.1, 0.5) if x == 0.5 else x)\n",
        "Doors['Eliminate_Door']=\n",
        "Doors.loc[((Doors['Car']) ==(Doors['Initial_Choice'])) & (Doors['Initial_Choice']==2), 'Eliminate_Door']=i\n",
        "i=Doors.loc[(Doors['Eliminate_Door'])](lambda x: random.uniform(1,3) if x==2 else x)\n",
        "# Doors.loc[((Doors['Car']) ==(Doors['Initial_Choice'])) & (Doors['Initial_Choice']==2), 'Eliminate_Door'] = 3\n",
        "Doors.loc[((Doors['Car']) ==(Doors['Initial_Choice'])) & (Doors['Initial_Choice']==2), 'Eliminate_Door'] = np.random.choice([2,3], replace = True)\n",
        "Doors\n",
        "# Doors.loc[((Doors['Car']) ==(Doors['Initial_Choice'])) & (Doors['Initial_Choice']==3), 'Eliminate_Door'] = 1 \n",
        "for Doors['Eliminate_Door'] in range(10):\n",
        "  Doors=Doors.append({random.choice([1,2]): Doors['Eliminate_Door']}, ignore_index=True) \n",
        "  if Doors.loc[((Doors['Car']) ==(Doors['Initial_Choice'])) & (Doors['Initial_Choice']==3)]:\n",
        "     print(Doors)                \n",
        "#Doors['Eliminate_Door']=Doors['Eliminate_Door'].astype(int)\"\"\""
      ],
      "execution_count": null,
      "outputs": [
        {
          "output_type": "execute_result",
          "data": {
            "text/plain": [
              "3"
            ]
          },
          "metadata": {
            "tags": []
          },
          "execution_count": 10
        }
      ]
    },
    {
      "cell_type": "code",
      "metadata": {
        "id": "YtMc5XMxxusB",
        "colab_type": "code",
        "colab": {}
      },
      "source": [
        "\"\"\"\n",
        "cond1=Doors.Car.eq(1) & Doors.Initial_Choice.eq(1)\n",
        "cond2=Doors.Car.eq(2) & Doors.Initial_Choice.eq(2)\n",
        "cond3=Doors.Car.eq(3) & Doors.Initial_Choice.eq(3)\n",
        "\n",
        "range1 = random.choice([2,3])\n",
        "range2 = random.choice([1,3])\n",
        "range3 = random.choice([1,2])\n",
        "\n",
        "Doors=Doors.assign(Eliminate_Door=np.select([cond1, cond2,cond3], [range1, range2,range3]))\n",
        "\n",
        "Doors = pd.concat([Doors]*3)\n",
        "Doors.head(50)\n",
        "Doors=Doors.assign(Eliminate_Door=np.select([cond1, cond2,cond3], [range1, range2,range3]))\n",
        "Doors.head()\n",
        "\n",
        "Initial_Choice']==2), 'Eliminate_Door']=np.random.randint([1,3],size=(1000,))\"\"\""
      ],
      "execution_count": null,
      "outputs": []
    }
  ]
}